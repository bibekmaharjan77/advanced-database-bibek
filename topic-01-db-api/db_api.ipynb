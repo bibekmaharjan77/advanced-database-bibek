{
 "cells": [
  {
   "cell_type": "code",
   "execution_count": 1,
   "metadata": {},
   "outputs": [],
   "source": [
    "import sqlite3"
   ]
  },
  {
   "cell_type": "code",
   "execution_count": 2,
   "metadata": {},
   "outputs": [],
   "source": [
    "connection = sqlite3.connect(\"pets.db\") #database connection\n",
    "\n",
    "cursor = connection.cursor() #this will help us traverse the db line by line"
   ]
  },
  {
   "cell_type": "code",
   "execution_count": 3,
   "metadata": {},
   "outputs": [],
   "source": [
    "# \"\"\"\" helps create multiple line statements\n",
    "cursor.execute(\"\"\"\n",
    "            create table if not exists pets (\n",
    "               id integer primary key autoincrement,\n",
    "               name text not null,\n",
    "               type text not null,\n",
    "               age integer,\n",
    "               owner text\n",
    "            )   \n",
    "\"\"\")\n",
    "\n",
    "# sql is transactional so we either commit or rollback \n",
    "\n",
    "connection.commit()"
   ]
  },
  {
   "cell_type": "code",
   "execution_count": 9,
   "metadata": {},
   "outputs": [],
   "source": [
    "#inserting records\n",
    "names = (\"kaale\", \"vaale\", \"Ryale\", \"khaire\")\n",
    "for name in names:\n",
    "    cursor.execute(\"\"\" \n",
    "        insert \n",
    "            into pets(name, type, age, owner) \n",
    "            values (?,?,?,?)               \n",
    "        \"\"\",(name,\"dog\", 8, \"bob\"))\n",
    "\n",
    "connection.commit()"
   ]
  },
  {
   "cell_type": "code",
   "execution_count": 12,
   "metadata": {},
   "outputs": [
    {
     "name": "stdout",
     "output_type": "stream",
     "text": [
      "(30, 'kaale', 'dog', 11, 'bob')\n",
      "(31, 'vaale', 'dog', 8, 'bob')\n",
      "(32, 'Ryale', 'dog', 8, 'bob')\n",
      "(33, 'khaire', 'dog', 8, 'bob')\n"
     ]
    }
   ],
   "source": [
    "#fetching records\n",
    "cursor.execute(\"select * from pets where type = ?\",(\"dog\",)) #in tuple, always put a comma\n",
    "rows = cursor.fetchall()\n",
    "for row in rows:\n",
    "    print(row)"
   ]
  },
  {
   "cell_type": "code",
   "execution_count": 11,
   "metadata": {},
   "outputs": [],
   "source": [
    "#update records\n",
    "cursor.execute(\"\"\"\n",
    "        update pets\n",
    "               set age = ?\n",
    "               where name = ?               \n",
    "\"\"\", (11,\"kaale\"))\n",
    "\n",
    "#nothing is going to happen untill we commit it\n",
    "connection.commit()"
   ]
  },
  {
   "cell_type": "code",
   "execution_count": 8,
   "metadata": {},
   "outputs": [],
   "source": [
    "#deleting entries\n",
    "\n",
    "cursor.execute(\"\"\"\n",
    "    delete from pets\n",
    "               where type = ?\n",
    "\"\"\",(\"dog\",))\n",
    "\n",
    "connection.commit() "
   ]
  }
 ],
 "metadata": {
  "kernelspec": {
   "display_name": "Python 3",
   "language": "python",
   "name": "python3"
  },
  "language_info": {
   "codemirror_mode": {
    "name": "ipython",
    "version": 3
   },
   "file_extension": ".py",
   "mimetype": "text/x-python",
   "name": "python",
   "nbconvert_exporter": "python",
   "pygments_lexer": "ipython3",
   "version": "3.12.1"
  }
 },
 "nbformat": 4,
 "nbformat_minor": 2
}
